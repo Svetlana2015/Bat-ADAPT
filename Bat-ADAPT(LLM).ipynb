{
 "cells": [
  {
   "cell_type": "code",
   "execution_count": 1,
   "id": "0658a41c-9876-4fd9-9692-27ba878320f5",
   "metadata": {},
   "outputs": [],
   "source": [
    "import openai\n",
    "from docx import Document\n",
    "from sentence_transformers import SentenceTransformer\n",
    "import numpy as np\n",
    "import faiss\n",
    "import os\n",
    "import json"
   ]
  },
  {
   "cell_type": "code",
   "execution_count": 2,
   "id": "b5e2e180-2360-4f6a-93b2-2c2ad28e03ca",
   "metadata": {},
   "outputs": [],
   "source": [
    "# Установите ваш OpenAI API ключ\n",
    "openai.api_key = \"\""
   ]
  },
  {
   "cell_type": "code",
   "execution_count": 3,
   "id": "ef2ef4dd-d87a-4cd9-8f36-63ebd1ee067b",
   "metadata": {},
   "outputs": [],
   "source": [
    "# Укажите путь к файлу / chemin d'accès au fichier\n",
    "downloads_path = os.path.expanduser(\"Desktop\")  # Путь к папке \"Загрузки\"\n",
    "file_name = \"Bat-ADAPT.docx\"  # Название файла\n",
    "file_path = os.path.join(downloads_path, file_name)"
   ]
  },
  {
   "cell_type": "code",
   "execution_count": 4,
   "id": "e5215eee-3571-407e-b885-8c083dd3a9af",
   "metadata": {},
   "outputs": [],
   "source": [
    "# Извлечение текста из Word\n",
    "# Extraire le texte de Word\n",
    "def extract_text_from_word(file_path):\n",
    "    doc = Document(file_path)\n",
    "    text = \"\\n\".join([p.text for p in doc.paragraphs if p.text.strip()])\n",
    "    return text"
   ]
  },
  {
   "cell_type": "code",
   "execution_count": 5,
   "id": "27ce568c-d200-44bd-9688-47cbdb34f61b",
   "metadata": {},
   "outputs": [
    {
     "name": "stdout",
     "output_type": "stream",
     "text": [
      "Contenu du document:\n",
      "Exemples de Questions et Réponses pouvant alimenter le Chatbox de Bat-ADAPT\n",
      "Périmètre géographique des analyses Bat-ADAPT \n",
      "Question : Dans quels pays en Europe peut-on utiliser cet outil ? Est-ce possible au Royaume-Uni, en Suisse, en Pologne ou en République Tchèque ?\n",
      "Réponse : L'outil Bat-ADAPT permet des analyses de risques climatiques des bâtiments situés en Europe Continentale. Il est tout à fait possible d'utiliser Bat-ADAPT pour les bâtiments situés au Royaume-Uni, en Suisse, en Pologne o\n"
     ]
    }
   ],
   "source": [
    "document_text = extract_text_from_word(file_path)\n",
    "print(\"Contenu du document:\")\n",
    "print(document_text[:500])  # Выводим первые 500 символов / Nous affichons les 500 premiers caractères"
   ]
  },
  {
   "cell_type": "code",
   "execution_count": 6,
   "id": "b6457564-230a-4f79-a4e3-3a48b2c37ac8",
   "metadata": {},
   "outputs": [
    {
     "name": "stdout",
     "output_type": "stream",
     "text": [
      "Contenu du document:\n",
      "Paragraphe 1: 'Exemples de Questions et Réponses pouvant alimenter le Chatbox de Bat-ADAPT'\n",
      "Paragraphe 2: ''\n",
      "Paragraphe 3: 'Périmètre géographique des analyses Bat-ADAPT '\n",
      "Paragraphe 4: ''\n",
      "Paragraphe 5: 'Question : Dans quels pays en Europe peut-on utiliser cet outil ? Est-ce possible au Royaume-Uni, en Suisse, en Pologne ou en République Tchèque ?'\n",
      "Paragraphe 6: ''\n",
      "Paragraphe 7: 'Réponse : L'outil Bat-ADAPT permet des analyses de risques climatiques des bâtiments situés en Europe Continentale. Il est tout à fait possible d'utiliser Bat-ADAPT pour les bâtiments situés au Royaume-Uni, en Suisse, en Pologne ou en République Tchèque. '\n",
      "Paragraphe 8: ''\n",
      "Paragraphe 9: 'Gestion de la base de données de bâtiments '\n",
      "Paragraphe 10: ''\n",
      "Paragraphe 11: 'Question : Quand nous ajoutons un nouveau fichier Excel dans notre espace \"Mon Patrimoine\" alors qu’un précédent Excel avait été importé, est-ce que cela va écraser les précédentes données ?'\n",
      "Paragraphe 12: ''\n",
      "Paragraphe 13: 'Réponse : Oui, les données des bâtiments ayant le même \"Code de bâtiment\" seront écrasées par celles du nouveau fichier Excel importé.'\n",
      "Paragraphe 14: ''\n",
      "Paragraphe 15: 'Question : Comment peut-on supprimer un bâtiment, notamment les bâtiments qui ont servi de test ?'\n",
      "Paragraphe 16: ''\n",
      "Paragraphe 17: 'Réponse : Pour supprimer des bâtiments, il faut les sélectionner dans la liste en cochant leurs cases.'\n",
      "Paragraphe 18: ''\n",
      "Paragraphe 19: 'Question : Est-il possible de modifier des données manuellement sans passer par l’Excel ?'\n",
      "Paragraphe 20: ''\n",
      "Paragraphe 21: 'Réponse : Oui, vous pouvez le faire. Pour cela, rendez-vous dans \"Mon patrimoine\", sélectionnez le bâtiment de votre liste, puis le formulaire correspondant apparaîtra. Vous pourrez y effectuer directement vos modifications manuelles.'\n",
      "Paragraphe 22: ''\n",
      "Paragraphe 23: '70 groupes.'\n",
      "Paragraphe 24: ''\n",
      "Paragraphe 25: 'Réponse : Les groupes de bâtiments sont conçus pour une partition thématique ou géographique. Il n'y a pas de limite maximale au nombre de groupes de bâtiments. Avoir 70 groupes est tout à fait possible si vous êtes membres (ce n'est pas possible en mode freemium). Toutefois, il est important de considérer la pertinence de cette structuration en termes d'usages et du nombre total de bâtiments. '\n",
      "Paragraphe 26: ''\n",
      "Paragraphe 27: 'Affichage des données des bâtiments'\n",
      "Paragraphe 28: ''\n",
      "Paragraphe 29: 'Question : Est-il possible de faire apparaître la famille de bâtiment en français dans la liste des bâtiments (onglet Mon patrimoine) ?'\n",
      "Paragraphe 30: ''\n",
      "Paragraphe 31: 'Réponse : Les données sur les bâtiments qui s'affichent dans l'onglet \"Mon patrimoine\" sont en anglais par défaut pour correspondre au fichier d'entrée lui-même en anglais. Les fichiers étaient historiquement en anglais car les utilisateurs principaux utilisaient des données en anglais dans le cadre de leurs démarches de reporting. Nous avons en tête qu'il serait utile de proposer un fichier d'import des données et donc des données sur la page \"Mon patrimoine\" en français. Cela fera peut-être l'objet d'améliorations futures. '\n",
      "Paragraphe 32: ''\n",
      "Paragraphe 33: 'En attendant, je vous invite à utiliser le tutoriel de remplissage des données R4RE ci-joints où apparaît les traductions précises et les détails de chaque donnée d'entrée. '\n",
      "Paragraphe 34: 'Question : Est-ce que le paramétrage de la base de données reste enregistré sur mon compte après sa réalisation ?'\n",
      "Paragraphe 35: ''\n",
      "Paragraphe 36: 'Réponse : Oui, le paramétrage de la base de données reste en mémoire sur votre compte jusqu'à ce qu'un changement soit effectué.'\n",
      "Paragraphe 37: ''\n",
      "Paragraphe 38: ''\n",
      "Paragraphe 39: 'Compréhension des données à remplir sur les bâtiments '\n",
      "Paragraphe 40: ''\n",
      "Paragraphe 41: 'Question : Comment mettre à jour en masse des données d'immeubles déjà paramétrées ?'\n",
      "Paragraphe 42: ''\n",
      "Paragraphe 43: 'Réponse : Pour cela, vous pouvez importer un nouveau un fichier .csv d’ajout de bâtiments. '\n",
      "Paragraphe 44: ''\n",
      "Paragraphe 45: 'Question : Existent-ils des profils de bâtiments applicables pour les bâtiments industriels ?'\n",
      "Paragraphe 46: ''\n",
      "Paragraphe 47: 'Réponse : Non, les profils de bâtiments concernent uniquement Bâtiments tertiaires de grande surface, Bâtiments tertiaires de petite surface et Bâtiments résidentiels.'\n",
      "Paragraphe 48: ''\n",
      "Paragraphe 49: 'Question : Où trouver l'ensemble des informations à renseigner ? '\n",
      "Paragraphe 50: ''\n",
      "Paragraphe 51: 'Réponse : Cela dépend beaucoup de l'utilisateur concerné et de ses connaissances personnelles ainsi que de l'accès aux données en interne que vous pouvez avoir. Les informations sont observables ou trouvables dans les DOE (Dossier des ouvrages exécutés) ou récupérables sur Go rénove ou des connaissances internes en matière de suivi des bâtiments que vous avez en propriété ou gestion.'\n"
     ]
    }
   ],
   "source": [
    "# Добавьте вывод всех параграфов документа, чтобы увидеть, как python-docx извлекает текст:\n",
    "# Ajouter une impression de tous les paragraphes du document pour voir comment python-docx extrait le texte :\n",
    "\n",
    "def debug_document(file_path):\n",
    "    doc = Document(file_path)\n",
    "    print(\"Contenu du document:\")\n",
    "    for i, paragraph in enumerate(doc.paragraphs):\n",
    "        print(f\"Paragraphe {i + 1}: '{paragraph.text}'\")\n",
    "\n",
    "# Путь к вашему Word-файлу\n",
    "debug_document(file_path)"
   ]
  },
  {
   "cell_type": "code",
   "execution_count": 7,
   "id": "535e23e5-c38b-4476-b8c7-5a77044599d5",
   "metadata": {},
   "outputs": [],
   "source": [
    "# Извлечение текста из документа Word\n",
    "# Extraire du texte d'un document Word\n",
    "\n",
    "def extract_questions_answers(file_path):\n",
    "    \"\"\"\n",
    "    Читает вопросы и ответы из файла .docx.\n",
    "    Возвращает список пар (вопрос, ответ).\n",
    "\n",
    "    Lit les questions et les réponses à partir d'un fichier .docx.\n",
    "    Renvoie une liste de paires (question, réponse).\n",
    "    \n",
    "    \"\"\"\n",
    "    doc = Document(file_path)\n",
    "    qa_pairs = []\n",
    "    current_question = None\n",
    "\n",
    "    # Проходим по каждому абзацу\n",
    "    # Nous parcourons chaque paragraphe\n",
    "    for paragraph in doc.paragraphs:\n",
    "        text = paragraph.text.strip()\n",
    "        \n",
    "        # Убираем неразрывные пробелы и приводим к стандартному виду\n",
    "        # Supprimer les espaces insécables et ramener au format standard\n",
    "        text = text.replace('\\xa0', ' ').strip()\n",
    "\n",
    "        # Проверяем на вопрос\n",
    "        # Vérifiez la question\n",
    "        if text.lower().startswith(\"question :\"):\n",
    "            current_question = text.replace(\"Question :\", \"\").strip()\n",
    "        \n",
    "        # Проверяем на ответ\n",
    "        # Vérifier la réponse\n",
    "        elif text.lower().startswith(\"réponse :\") and current_question:\n",
    "            answer = text.replace(\"Réponse :\", \"\").strip()\n",
    "            qa_pairs.append({\"question\": current_question, \"answer\": answer})\n",
    "            current_question = None\n",
    "    \n",
    "    return qa_pairs"
   ]
  },
  {
   "cell_type": "code",
   "execution_count": 8,
   "id": "b831cbe0-ebe9-483d-b370-c1d15408ddbb",
   "metadata": {},
   "outputs": [
    {
     "name": "stdout",
     "output_type": "stream",
     "text": [
      "9 paires de questions et réponses trouvées:\n",
      "Question: Dans quels pays en Europe peut-on utiliser cet outil ? Est-ce possible au Royaume-Uni, en Suisse, en Pologne ou en République Tchèque ?\n",
      "Réponses: L'outil Bat-ADAPT permet des analyses de risques climatiques des bâtiments situés en Europe Continentale. Il est tout à fait possible d'utiliser Bat-ADAPT pour les bâtiments situés au Royaume-Uni, en Suisse, en Pologne ou en République Tchèque.\n",
      "\n",
      "Question: Quand nous ajoutons un nouveau fichier Excel dans notre espace \"Mon Patrimoine\" alors qu’un précédent Excel avait été importé, est-ce que cela va écraser les précédentes données ?\n",
      "Réponses: Oui, les données des bâtiments ayant le même \"Code de bâtiment\" seront écrasées par celles du nouveau fichier Excel importé.\n",
      "\n",
      "Question: Comment peut-on supprimer un bâtiment, notamment les bâtiments qui ont servi de test ?\n",
      "Réponses: Pour supprimer des bâtiments, il faut les sélectionner dans la liste en cochant leurs cases.\n",
      "\n",
      "Question: Est-il possible de modifier des données manuellement sans passer par l’Excel ?\n",
      "Réponses: Oui, vous pouvez le faire. Pour cela, rendez-vous dans \"Mon patrimoine\", sélectionnez le bâtiment de votre liste, puis le formulaire correspondant apparaîtra. Vous pourrez y effectuer directement vos modifications manuelles.\n",
      "\n",
      "Question: Est-il possible de faire apparaître la famille de bâtiment en français dans la liste des bâtiments (onglet Mon patrimoine) ?\n",
      "Réponses: Les données sur les bâtiments qui s'affichent dans l'onglet \"Mon patrimoine\" sont en anglais par défaut pour correspondre au fichier d'entrée lui-même en anglais. Les fichiers étaient historiquement en anglais car les utilisateurs principaux utilisaient des données en anglais dans le cadre de leurs démarches de reporting. Nous avons en tête qu'il serait utile de proposer un fichier d'import des données et donc des données sur la page \"Mon patrimoine\" en français. Cela fera peut-être l'objet d'améliorations futures.\n",
      "\n",
      "Question: Est-ce que le paramétrage de la base de données reste enregistré sur mon compte après sa réalisation ?\n",
      "Réponses: Oui, le paramétrage de la base de données reste en mémoire sur votre compte jusqu'à ce qu'un changement soit effectué.\n",
      "\n",
      "Question: Comment mettre à jour en masse des données d'immeubles déjà paramétrées ?\n",
      "Réponses: Pour cela, vous pouvez importer un nouveau un fichier .csv d’ajout de bâtiments.\n",
      "\n",
      "Question: Existent-ils des profils de bâtiments applicables pour les bâtiments industriels ?\n",
      "Réponses: Non, les profils de bâtiments concernent uniquement Bâtiments tertiaires de grande surface, Bâtiments tertiaires de petite surface et Bâtiments résidentiels.\n",
      "\n",
      "Question: Où trouver l'ensemble des informations à renseigner ?\n",
      "Réponses: Cela dépend beaucoup de l'utilisateur concerné et de ses connaissances personnelles ainsi que de l'accès aux données en interne que vous pouvez avoir. Les informations sont observables ou trouvables dans les DOE (Dossier des ouvrages exécutés) ou récupérables sur Go rénove ou des connaissances internes en matière de suivi des bâtiments que vous avez en propriété ou gestion.\n",
      "\n"
     ]
    }
   ],
   "source": [
    "qa_pairs = extract_questions_answers(file_path)\n",
    "if not qa_pairs:\n",
    "    print(\"Erreur : Aucune question ou réponse trouvée dans le document.\")\n",
    "else:\n",
    "    print(f\"{len(qa_pairs)} paires de questions et réponses trouvées:\")\n",
    "    for pair in qa_pairs:\n",
    "        print(f\"Question: {pair['question']}\")\n",
    "        print(f\"Réponses: {pair['answer']}\\n\")"
   ]
  },
  {
   "cell_type": "code",
   "execution_count": 9,
   "id": "33f7c867-0fb7-4cb4-b757-ad3455413548",
   "metadata": {},
   "outputs": [],
   "source": [
    "# Разбиение текста на блоки\n",
    "# Diviser le texte en blocs\n",
    "def split_text_into_chunks(text, max_tokens=1500):\n",
    "    sentences = text.split(\"\\n\")\n",
    "    chunks = []\n",
    "    current_chunk = []\n",
    "    current_length = 0\n",
    "\n",
    "    for sentence in sentences:\n",
    "        token_length = len(sentence.split())\n",
    "        if current_length + token_length > max_tokens:\n",
    "            chunks.append(\" \".join(current_chunk))\n",
    "            current_chunk = []\n",
    "            current_length = 0\n",
    "        current_chunk.append(sentence)\n",
    "        current_length += token_length\n",
    "\n",
    "    if current_chunk:\n",
    "        chunks.append(\" \".join(current_chunk))\n",
    "    return chunks"
   ]
  },
  {
   "cell_type": "code",
   "execution_count": 10,
   "id": "0803eef1-b074-41c2-b27b-b806c270bb7a",
   "metadata": {},
   "outputs": [
    {
     "name": "stdout",
     "output_type": "stream",
     "text": [
      "Contenu du document:\n",
      "['Exemples de Questions et Réponses pouvant alimenter le Chatbox de Bat-ADAPT Périmètre géographique des analyses Bat-ADAPT  Question\\xa0: Dans quels pays en Europe peut-on utiliser cet outil ? Est-ce possible au Royaume-Uni, en Suisse, en Pologne ou en République Tchèque ? Réponse\\xa0: L\\'outil Bat-ADAPT permet des analyses de risques climatiques des bâtiments situés en Europe Continentale. Il est tout à fait possible d\\'utiliser Bat-ADAPT pour les bâtiments situés au\\xa0Royaume-Uni, en Suisse, en Pologne ou en République Tchèque.\\xa0 Gestion de la base de données de bâtiments  Question\\xa0: Quand nous ajoutons un nouveau fichier Excel dans notre espace \"Mon Patrimoine\" alors qu’un précédent Excel avait été importé, est-ce que cela va écraser les précédentes données ? Réponse\\xa0: Oui, les données des bâtiments ayant le même \"Code de bâtiment\" seront écrasées par celles du nouveau fichier Excel importé. Question\\xa0: Comment peut-on supprimer un bâtiment, notamment les bâtiments qui ont servi de test ? Réponse\\xa0: Pour supprimer des bâtiments, il faut les sélectionner dans la liste en cochant leurs cases. Question\\xa0: Est-il possible de modifier des données manuellement sans passer par l’Excel ? Réponse\\xa0: Oui, vous pouvez le faire. Pour cela, rendez-vous dans \"Mon patrimoine\", sélectionnez le bâtiment de votre liste, puis le formulaire correspondant apparaîtra. Vous pourrez y effectuer directement vos modifications manuelles. 70 groupes. Réponse\\xa0: Les groupes de bâtiments sont conçus pour une partition thématique ou géographique. Il n\\'y a pas de limite maximale au nombre de groupes de bâtiments. Avoir 70 groupes est tout à fait possible si vous êtes membres (ce n\\'est pas possible en mode freemium). Toutefois, il est important de considérer la pertinence de cette structuration en termes d\\'usages et du nombre total de bâtiments.  Affichage des données des bâtiments Question\\xa0: Est-il possible de faire apparaître la famille de bâtiment en français dans la liste des bâtiments (onglet Mon patrimoine)\\xa0? Réponse\\xa0: Les données sur les bâtiments qui s\\'affichent dans l\\'onglet \"Mon patrimoine\" sont en anglais par défaut pour correspondre au fichier d\\'entrée lui-même en anglais. Les fichiers étaient historiquement en anglais car les utilisateurs principaux utilisaient des données en anglais dans le cadre de leurs démarches de reporting. Nous avons en tête qu\\'il serait utile de proposer un fichier d\\'import des données et donc des données sur la page \"Mon patrimoine\" en français. Cela fera peut-être l\\'objet d\\'améliorations futures.\\xa0 En attendant, je vous invite à utiliser le tutoriel de remplissage des données R4RE ci-joints où apparaît les traductions précises et les détails de chaque donnée d\\'entrée.\\xa0 Question\\xa0: Est-ce que le paramétrage de la base de données reste enregistré sur mon compte après sa réalisation ? Réponse\\xa0: Oui, le paramétrage de la base de données reste en mémoire sur votre compte jusqu\\'à ce qu\\'un changement soit effectué. Compréhension des données à remplir sur les bâtiments  Question\\xa0: Comment mettre à jour en masse des données d\\'immeubles déjà paramétrées ? Réponse\\xa0: Pour cela, vous pouvez importer un nouveau un fichier .csv d’ajout de bâtiments.  Question\\xa0: Existent-ils des profils de bâtiments applicables pour les bâtiments industriels ? Réponse\\xa0: Non, les profils de bâtiments concernent uniquement Bâtiments tertiaires de grande surface, Bâtiments tertiaires de petite surface et Bâtiments résidentiels. Question\\xa0: Où trouver l\\'ensemble des informations à renseigner ?\\xa0 Réponse\\xa0: Cela dépend beaucoup de l\\'utilisateur concerné et de ses connaissances personnelles ainsi que de l\\'accès aux données en interne que vous pouvez avoir. Les informations sont observables ou trouvables dans les DOE (Dossier des ouvrages exécutés) ou récupérables sur Go rénove ou des connaissances internes en matière de suivi des bâtiments que vous avez en propriété ou gestion.']\n"
     ]
    }
   ],
   "source": [
    "document_text_2 = split_text_into_chunks(document_text)\n",
    "print(\"Contenu du document:\")\n",
    "print(document_text_2[:2000])  # Выводим первые 2000 символов"
   ]
  },
  {
   "cell_type": "code",
   "execution_count": 11,
   "id": "0e576516-af13-4eb5-8725-a771d854eae4",
   "metadata": {},
   "outputs": [],
   "source": [
    "# Fix truncated JSON\n",
    "def fix_truncated_json(json_string):\n",
    "    try:\n",
    "        return json.loads(json_string)\n",
    "    except json.JSONDecodeError:\n",
    "        # Attempt to fix truncated JSON\n",
    "        if json_string.strip()[-1] not in [']', '}']:\n",
    "            json_string += ']'\n",
    "        try:\n",
    "            return json.loads(json_string)\n",
    "        except json.JSONDecodeError:\n",
    "            print(\"Failed to fix truncated JSON.\")\n",
    "            return []"
   ]
  },
  {
   "cell_type": "code",
   "execution_count": 12,
   "id": "dc60789d-3347-4350-b661-15bbc2a6841f",
   "metadata": {},
   "outputs": [],
   "source": [
    "# Create a vector index\n",
    "def create_vector_index(chunks, model_name=\"sentence-transformers/all-MiniLM-L6-v2\"):\n",
    "    model = SentenceTransformer(model_name)\n",
    "    embeddings = model.encode(chunks, convert_to_tensor=False)\n",
    "    dimension = embeddings[0].shape[0]\n",
    "\n",
    "    index = faiss.IndexFlatL2(dimension)\n",
    "    index.add(np.array(embeddings))\n",
    "    return index, model, embeddings"
   ]
  },
  {
   "cell_type": "code",
   "execution_count": 13,
   "id": "c4db4b5e-65c3-4370-b111-5818ad86c373",
   "metadata": {},
   "outputs": [],
   "source": [
    "# Search relevant chunks\n",
    "def search_relevant_chunks(query, index, model, chunks, top_k=3):\n",
    "    query_embedding = model.encode([query], convert_to_tensor=False)\n",
    "    distances, indices = index.search(np.array(query_embedding), top_k)\n",
    "    results = [{\"chunk\": chunks[idx], \"distance\": dist} for dist, idx in zip(distances[0], indices[0])]\n",
    "    return results"
   ]
  },
  {
   "cell_type": "code",
   "execution_count": 14,
   "id": "363c32aa-95f2-43d0-a1ed-c43b964539bb",
   "metadata": {},
   "outputs": [],
   "source": [
    "# Extract questions and answers using LLM\n",
    "def extract_qa_with_llm_safe(text_chunk):\n",
    "    chunks = split_text_into_chunks(text_chunk)\n",
    "    all_qa_pairs = []\n",
    "\n",
    "    for chunk in chunks:\n",
    "        prompt = (\n",
    "            f\"Please extract only the questions and answers from the text below. \"\n",
    "            f\"Ensure the output is a valid JSON array in the following format:\\n\"\n",
    "            f\"[{{question': 'Question text', 'answer': 'Answer text'}}]\\n\"\n",
    "            f\"Do not include any additional text or explanations. Only output the JSON array.\\n\"\n",
    "            f\"Text:\\n{chunk}\"\n",
    "        )\n",
    "        response = openai.ChatCompletion.create(\n",
    "            model=\"gpt-4\",\n",
    "            messages=[{\"role\": \"user\", \"content\": prompt}],\n",
    "            max_tokens=1000,\n",
    "            temperature=0\n",
    "        )\n",
    "        llm_output = response.choices[0].message.content.strip()\n",
    "        try:\n",
    "            # Validate and parse the JSON response\n",
    "            qa_pairs = fix_truncated_json(llm_output)\n",
    "            all_qa_pairs.extend(qa_pairs)\n",
    "        except Exception as e:\n",
    "            print(f\"Error processing chunk: {e}\")\n",
    "            print(f\"LLM output: {llm_output}\")\n",
    "    return all_qa_pairs"
   ]
  },
  {
   "cell_type": "code",
   "execution_count": 15,
   "id": "50029535-1af3-4e39-a869-6bd3358677b3",
   "metadata": {},
   "outputs": [
    {
     "data": {
      "text/plain": [
       "[{'question': 'Dans quels pays en Europe peut-on utiliser cet outil ? Est-ce possible au Royaume-Uni, en Suisse, en Pologne ou en République Tchèque ?',\n",
       "  'answer': \"L'outil Bat-ADAPT permet des analyses de risques climatiques des bâtiments situés en Europe Continentale. Il est tout à fait possible d'utiliser Bat-ADAPT pour les bâtiments situés au Royaume-Uni, en Suisse, en Pologne ou en République Tchèque.\"},\n",
       " {'question': 'Quand nous ajoutons un nouveau fichier Excel dans notre espace \"Mon Patrimoine\" alors qu’un précédent Excel avait été importé, est-ce que cela va écraser les précédentes données ?',\n",
       "  'answer': 'Oui, les données des bâtiments ayant le même \"Code de bâtiment\" seront écrasées par celles du nouveau fichier Excel importé.'},\n",
       " {'question': 'Comment peut-on supprimer un bâtiment, notamment les bâtiments qui ont servi de test ?',\n",
       "  'answer': 'Pour supprimer des bâtiments, il faut les sélectionner dans la liste en cochant leurs cases.'},\n",
       " {'question': 'Est-il possible de modifier des données manuellement sans passer par l’Excel ?',\n",
       "  'answer': 'Oui, vous pouvez le faire. Pour cela, rendez-vous dans \"Mon patrimoine\", sélectionnez le bâtiment de votre liste, puis le formulaire correspondant apparaîtra. Vous pourrez y effectuer directement vos modifications manuelles.'},\n",
       " {'question': 'Est-il possible de faire apparaître la famille de bâtiment en français dans la liste des bâtiments (onglet Mon patrimoine) ?',\n",
       "  'answer': 'Les données sur les bâtiments qui s\\'affichent dans l\\'onglet \"Mon patrimoine\" sont en anglais par défaut pour correspondre au fichier d\\'entrée lui-même en anglais. Les fichiers étaient historiquement en anglais car les utilisateurs principaux utilisaient des données en anglais dans le cadre de leurs démarches de reporting. Nous avons en tête qu\\'il serait utile de proposer un fichier d\\'import des données et donc des données sur la page \"Mon patrimoine\" en français. Cela fera peut-être l\\'objet d\\'améliorations futures. En attendant, je vous invite à utiliser le tutoriel de remplissage des données R4RE ci-joints où apparaît les traductions précises et les détails de chaque donnée d\\'entrée.'},\n",
       " {'question': 'Est-ce que le paramétrage de la base de données reste enregistré sur mon compte après sa réalisation ?',\n",
       "  'answer': \"Oui, le paramétrage de la base de données reste en mémoire sur votre compte jusqu'à ce qu'un changement soit effectué.\"},\n",
       " {'question': \"Comment mettre à jour en masse des données d'immeubles déjà paramétrées ?\",\n",
       "  'answer': 'Pour cela, vous pouvez importer un nouveau un fichier .csv d’ajout de bâtiments.'},\n",
       " {'question': 'Existent-ils des profils de bâtiments applicables pour les bâtiments industriels ?',\n",
       "  'answer': 'Non, les profils de bâtiments concernent uniquement Bâtiments tertiaires de grande surface, Bâtiments tertiaires de petite surface et Bâtiments résidentiels.'},\n",
       " {'question': \"Où trouver l'ensemble des informations à renseigner ?\",\n",
       "  'answer': \"Cela dépend beaucoup de l'utilisateur concerné et de ses connaissances personnelles ainsi que de l'accès aux données en interne que vous pouvez avoir. Les informations sont observables ou trouvables dans les DOE (Dossier des ouvrages exécutés) ou récupérables sur Go rénove ou des connaissances internes en matière de suivi des bâtiments que vous avez en propriété ou gestion.\"}]"
      ]
     },
     "execution_count": 15,
     "metadata": {},
     "output_type": "execute_result"
    }
   ],
   "source": [
    "extract_qa_with_llm_safe(document_text)"
   ]
  },
  {
   "cell_type": "code",
   "execution_count": 16,
   "id": "f1ca3e35-872d-41d0-b54e-45e97e1e93c3",
   "metadata": {},
   "outputs": [],
   "source": [
    "from sklearn.metrics.pairwise import cosine_similarity\n",
    "\n",
    "def find_best_match(query, qa_pairs, model):\n",
    "    \"\"\"\n",
    "    Находит наиболее релевантный вопрос-ответ на основе сходства с запросом.\n",
    "    Trouve la question-réponse la plus pertinente en fonction de la similitude avec la requête.\n",
    "    \"\"\"\n",
    "    questions = [qa['question'] for qa in qa_pairs]\n",
    "    question_embeddings = model.encode(questions, convert_to_tensor=False)\n",
    "    query_embedding = model.encode([query], convert_to_tensor=False)\n",
    "\n",
    "    # Вычисляем сходство косинуса\n",
    "    similarities = cosine_similarity(query_embedding, question_embeddings).flatten()\n",
    "    best_index = similarities.argmax()\n",
    "\n",
    "    return qa_pairs[best_index]"
   ]
  },
  {
   "cell_type": "code",
   "execution_count": 17,
   "id": "9359f7fe-d64a-421e-ab72-fb33aa589455",
   "metadata": {},
   "outputs": [],
   "source": [
    "def process_with_vectorization_and_llm(file_path, query):\n",
    "    # Step 1: Extract text\n",
    "    text = extract_text_from_word(file_path)\n",
    "    chunks = split_text_into_chunks(text)\n",
    "\n",
    "    # Step 2: Create vector index\n",
    "    index, model, embeddings = create_vector_index(chunks)\n",
    "\n",
    "    # Step 3: Search relevant chunks\n",
    "    relevant_chunks = search_relevant_chunks(query, index, model, chunks, top_k=3)\n",
    "\n",
    "    # Step 4: Extract Q&A pairs with LLM\n",
    "    qa_pairs = []\n",
    "    for chunk_data in relevant_chunks:\n",
    "        chunk = chunk_data[\"chunk\"]\n",
    "        try:\n",
    "            llm_response = extract_qa_with_llm_safe(chunk)\n",
    "            qa_pairs.extend(llm_response)\n",
    "        except Exception as e:\n",
    "            print(f\"Error processing chunk: {e}\")\n",
    "\n",
    "    # Step 5: Find the best match for the query\n",
    "    if qa_pairs:\n",
    "        best_match = find_best_match(query, qa_pairs, model)\n",
    "        return best_match\n",
    "    else:\n",
    "        return None"
   ]
  },
  {
   "cell_type": "code",
   "execution_count": 18,
   "id": "e9c9b3b7-a64e-49e1-ad94-aadd44268f0b",
   "metadata": {},
   "outputs": [],
   "source": [
    "query = \"Comment peut-on supprimer un bâtiment, notamment les bâtiments qui ont servi de test ?\""
   ]
  },
  {
   "cell_type": "code",
   "execution_count": 19,
   "id": "736c5d88-d972-4983-a388-a3b5d4e5b41e",
   "metadata": {},
   "outputs": [
    {
     "name": "stdout",
     "output_type": "stream",
     "text": [
      "Failed to fix truncated JSON.\n"
     ]
    },
    {
     "data": {
      "text/plain": [
       "{'question': 'Comment peut-on supprimer un bâtiment, notamment les bâtiments qui ont servi de test ?',\n",
       " 'answer': 'Pour supprimer des bâtiments, il faut les sélectionner dans la liste en cochant leurs cases.'}"
      ]
     },
     "execution_count": 19,
     "metadata": {},
     "output_type": "execute_result"
    }
   ],
   "source": [
    "process_with_vectorization_and_llm(file_path, query)"
   ]
  },
  {
   "cell_type": "code",
   "execution_count": 20,
   "id": "a3ec4b4b-8047-4bbe-aa88-3d360b27369a",
   "metadata": {},
   "outputs": [
    {
     "name": "stdout",
     "output_type": "stream",
     "text": [
      "Chatbot est prêt ! Posez votre question :\n"
     ]
    },
    {
     "name": "stdin",
     "output_type": "stream",
     "text": [
      "Vous :  Comment peut-on supprimer un bâtiment, notamment les bâtiments qui ont servi de test ?\n"
     ]
    },
    {
     "name": "stdout",
     "output_type": "stream",
     "text": [
      "Failed to fix truncated JSON.\n",
      "Extracted questions and answers:\n",
      "Question: Comment peut-on supprimer un bâtiment, notamment les bâtiments qui ont servi de test ?\n",
      "Answer: Pour supprimer des bâtiments, il faut les sélectionner dans la liste en cochant leurs cases.\n"
     ]
    },
    {
     "name": "stdin",
     "output_type": "stream",
     "text": [
      "Vous :  Dans quels pays en Europe peut-on utiliser cet outil ? Est-ce possible au Royaume-Uni, en Suisse, en Pologne ou en République Tchèque ?\n"
     ]
    },
    {
     "name": "stdout",
     "output_type": "stream",
     "text": [
      "Extracted questions and answers:\n",
      "Question: Dans quels pays en Europe peut-on utiliser cet outil ? Est-ce possible au Royaume-Uni, en Suisse, en Pologne ou en République Tchèque ?\n",
      "Answer: L'outil Bat-ADAPT permet des analyses de risques climatiques des bâtiments situés en Europe Continentale. Il est tout à fait possible d'utiliser Bat-ADAPT pour les bâtiments situés au Royaume-Uni, en Suisse, en Pologne ou en République Tchèque.\n"
     ]
    },
    {
     "name": "stdin",
     "output_type": "stream",
     "text": [
      "Vous :  exit\n"
     ]
    },
    {
     "name": "stdout",
     "output_type": "stream",
     "text": [
      "Chatbot a terminé. Au revoir !\n"
     ]
    }
   ],
   "source": [
    "def main():\n",
    "    downloads_path = os.path.expanduser(\"Desktop\")  # Путь к папке \"Загрузки\"\n",
    "    file_name = \"Bat-ADAPT.docx\"  # Название файла\n",
    "    file_path = os.path.join(downloads_path, file_name)\n",
    "\n",
    "    print(\"Chatbot est prêt ! Posez votre question :\")\n",
    "    while True:\n",
    "        user_query = input(\"Vous : \")\n",
    "        if user_query.lower() in [\"exit\", \"quit\"]:\n",
    "            print(\"Chatbot a terminé. Au revoir !\")\n",
    "            break\n",
    "        best_answer = process_with_vectorization_and_llm(file_path, user_query)\n",
    "\n",
    "        if best_answer:\n",
    "            print(\"Extracted questions and answers:\")\n",
    "            print(f\"Question: {best_answer['question']}\")\n",
    "            print(f\"Answer: {best_answer['answer']}\")\n",
    "        else:\n",
    "            print(\"No relevant answer found.\")\n",
    "       \n",
    "        \n",
    "\n",
    "if __name__ == \"__main__\":\n",
    "    main()"
   ]
  },
  {
   "cell_type": "code",
   "execution_count": null,
   "id": "36b8229a-d151-4693-adb7-5a26776b7038",
   "metadata": {},
   "outputs": [],
   "source": []
  },
  {
   "cell_type": "code",
   "execution_count": null,
   "id": "2a7f70df-d995-4983-9640-45f638ff8aec",
   "metadata": {},
   "outputs": [],
   "source": []
  },
  {
   "cell_type": "code",
   "execution_count": null,
   "id": "496ad4d3-773a-47dd-8116-239d9b187b9d",
   "metadata": {},
   "outputs": [],
   "source": []
  }
 ],
 "metadata": {
  "kernelspec": {
   "display_name": "Python 3 (ipykernel)",
   "language": "python",
   "name": "python3"
  },
  "language_info": {
   "codemirror_mode": {
    "name": "ipython",
    "version": 3
   },
   "file_extension": ".py",
   "mimetype": "text/x-python",
   "name": "python",
   "nbconvert_exporter": "python",
   "pygments_lexer": "ipython3",
   "version": "3.12.7"
  }
 },
 "nbformat": 4,
 "nbformat_minor": 5
}
