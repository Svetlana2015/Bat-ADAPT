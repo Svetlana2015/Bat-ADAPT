{
 "cells": [
  {
   "cell_type": "code",
   "execution_count": 1,
   "id": "cfa2f99d-1ee1-440b-8ce6-e0df2a335c16",
   "metadata": {},
   "outputs": [],
   "source": [
    "import os\n",
    "from docx import Document\n",
    "from sentence_transformers import SentenceTransformer\n",
    "import numpy as np\n",
    "import faiss\n",
    "import openai"
   ]
  },
  {
   "cell_type": "code",
   "execution_count": 2,
   "id": "78116ec5-86fd-4c38-a6d2-685fbceb8668",
   "metadata": {},
   "outputs": [],
   "source": [
    "# Укажите путь к файлу / chemin d'accès au fichier\n",
    "downloads_path = os.path.expanduser(\"Desktop\")  # Путь к папке \"Загрузки\"\n",
    "file_name = \"Bat-ADAPT.docx\"  # Название файла\n",
    "file_path = os.path.join(downloads_path, file_name)"
   ]
  },
  {
   "cell_type": "code",
   "execution_count": 3,
   "id": "dc02fe24-ddc1-4806-9573-0277d4fe290b",
   "metadata": {},
   "outputs": [],
   "source": [
    "# Функция для чтения текста из .docx\n",
    "# Fonction de lecture de texte à partir de .docx\n",
    "def read_docx(file_path):\n",
    "    doc = Document(file_path)\n",
    "    full_text = []\n",
    "    for paragraph in doc.paragraphs:\n",
    "        if paragraph.text.strip():  # Пропускаем пустые строки / Sauter les lignes vides\n",
    "            full_text.append(paragraph.text.strip())\n",
    "    return \" \".join(full_text)"
   ]
  },
  {
   "cell_type": "code",
   "execution_count": 4,
   "id": "0adc1067-ee2f-453b-8481-da1ca699f769",
   "metadata": {},
   "outputs": [
    {
     "name": "stdout",
     "output_type": "stream",
     "text": [
      "Contenu du document:\n",
      "Exemples de Questions et Réponses pouvant alimenter le Chatbox de Bat-ADAPT Périmètre géographique des analyses Bat-ADAPT Question : Dans quels pays en Europe peut-on utiliser cet outil ? Est-ce possible au Royaume-Uni, en Suisse, en Pologne ou en République Tchèque ? Réponse : L'outil Bat-ADAPT permet des analyses de risques climatiques des bâtiments situés en Europe Continentale. Il est tout à fait possible d'utiliser Bat-ADAPT pour les bâtiments situés au Royaume-Uni, en Suisse, en Pologne ou\n"
     ]
    }
   ],
   "source": [
    "document_text = read_docx(file_path)\n",
    "print(\"Contenu du document:\")\n",
    "print(document_text[:500])  # Выводим первые 500 символов / Nous affichons les 500 premiers caractères"
   ]
  },
  {
   "cell_type": "code",
   "execution_count": 5,
   "id": "34533cd5-caf3-43fc-a445-60bc6809b0e8",
   "metadata": {},
   "outputs": [
    {
     "name": "stdout",
     "output_type": "stream",
     "text": [
      "Contenu du document:\n",
      "Paragraphe 1: 'Exemples de Questions et Réponses pouvant alimenter le Chatbox de Bat-ADAPT'\n",
      "Paragraphe 2: ''\n",
      "Paragraphe 3: 'Périmètre géographique des analyses Bat-ADAPT '\n",
      "Paragraphe 4: ''\n",
      "Paragraphe 5: 'Question : Dans quels pays en Europe peut-on utiliser cet outil ? Est-ce possible au Royaume-Uni, en Suisse, en Pologne ou en République Tchèque ?'\n",
      "Paragraphe 6: ''\n",
      "Paragraphe 7: 'Réponse : L'outil Bat-ADAPT permet des analyses de risques climatiques des bâtiments situés en Europe Continentale. Il est tout à fait possible d'utiliser Bat-ADAPT pour les bâtiments situés au Royaume-Uni, en Suisse, en Pologne ou en République Tchèque. '\n",
      "Paragraphe 8: ''\n",
      "Paragraphe 9: 'Gestion de la base de données de bâtiments '\n",
      "Paragraphe 10: ''\n",
      "Paragraphe 11: 'Question : Quand nous ajoutons un nouveau fichier Excel dans notre espace \"Mon Patrimoine\" alors qu’un précédent Excel avait été importé, est-ce que cela va écraser les précédentes données ?'\n",
      "Paragraphe 12: ''\n",
      "Paragraphe 13: 'Réponse : Oui, les données des bâtiments ayant le même \"Code de bâtiment\" seront écrasées par celles du nouveau fichier Excel importé.'\n",
      "Paragraphe 14: ''\n",
      "Paragraphe 15: 'Question : Comment peut-on supprimer un bâtiment, notamment les bâtiments qui ont servi de test ?'\n",
      "Paragraphe 16: ''\n",
      "Paragraphe 17: 'Réponse : Pour supprimer des bâtiments, il faut les sélectionner dans la liste en cochant leurs cases.'\n",
      "Paragraphe 18: ''\n",
      "Paragraphe 19: 'Question : Est-il possible de modifier des données manuellement sans passer par l’Excel ?'\n",
      "Paragraphe 20: ''\n",
      "Paragraphe 21: 'Réponse : Oui, vous pouvez le faire. Pour cela, rendez-vous dans \"Mon patrimoine\", sélectionnez le bâtiment de votre liste, puis le formulaire correspondant apparaîtra. Vous pourrez y effectuer directement vos modifications manuelles.'\n",
      "Paragraphe 22: ''\n",
      "Paragraphe 23: '70 groupes.'\n",
      "Paragraphe 24: ''\n",
      "Paragraphe 25: 'Réponse : Les groupes de bâtiments sont conçus pour une partition thématique ou géographique. Il n'y a pas de limite maximale au nombre de groupes de bâtiments. Avoir 70 groupes est tout à fait possible si vous êtes membres (ce n'est pas possible en mode freemium). Toutefois, il est important de considérer la pertinence de cette structuration en termes d'usages et du nombre total de bâtiments. '\n",
      "Paragraphe 26: ''\n",
      "Paragraphe 27: 'Affichage des données des bâtiments'\n",
      "Paragraphe 28: ''\n",
      "Paragraphe 29: 'Question : Est-il possible de faire apparaître la famille de bâtiment en français dans la liste des bâtiments (onglet Mon patrimoine) ?'\n",
      "Paragraphe 30: ''\n",
      "Paragraphe 31: 'Réponse : Les données sur les bâtiments qui s'affichent dans l'onglet \"Mon patrimoine\" sont en anglais par défaut pour correspondre au fichier d'entrée lui-même en anglais. Les fichiers étaient historiquement en anglais car les utilisateurs principaux utilisaient des données en anglais dans le cadre de leurs démarches de reporting. Nous avons en tête qu'il serait utile de proposer un fichier d'import des données et donc des données sur la page \"Mon patrimoine\" en français. Cela fera peut-être l'objet d'améliorations futures. '\n",
      "Paragraphe 32: ''\n",
      "Paragraphe 33: 'En attendant, je vous invite à utiliser le tutoriel de remplissage des données R4RE ci-joints où apparaît les traductions précises et les détails de chaque donnée d'entrée. '\n",
      "Paragraphe 34: 'Question : Est-ce que le paramétrage de la base de données reste enregistré sur mon compte après sa réalisation ?'\n",
      "Paragraphe 35: ''\n",
      "Paragraphe 36: 'Réponse : Oui, le paramétrage de la base de données reste en mémoire sur votre compte jusqu'à ce qu'un changement soit effectué.'\n",
      "Paragraphe 37: ''\n",
      "Paragraphe 38: 'Bugs d’affichage  '\n",
      "Paragraphe 39: ''\n",
      "Paragraphe 40: 'Question : Je rencontre actuellement plusieurs bugs de mise en forme lors du diagnostic BatADAPT.\n",
      "1. L'analyse par type de risque montre un graphique sur l'indicateur de l'évolution du risque selon les scenarios climatiques qui apparaît puis se réduit pour disparaître entièrement, ne laissant apparaître que la légende. A l'impression, ce graphique est trop petit pour être lisible.\n",
      "2. Idem pour la page de planification des actions. Le graphique montrant la répartition des actions se réduit jusqu'à disparaître. Lors de l'impression, le diagramme est tout petit.\n",
      "3. Lors de l'impression en pdf, la page de planification des actions est coupé, nous ne voyons pas tous les aléas concernés.'\n",
      "Paragraphe 41: ''\n",
      "Paragraphe 42: 'Réponse : Voici mes éléments de réponse concernant vos retours :'\n",
      "Paragraphe 43: ''\n",
      "Paragraphe 44: 'Problème d'affichage et d'impression des graphiques dans l'analyse par type de risque'\n",
      "Paragraphe 45: 'Pour une expérience optimale, nous recommandons d'utiliser les navigateurs Mozilla Firefox ou Google Chrome. Aucun bug d'affichage similaire à celui que vous décrivez n'a été identifié jusqu'à présent.'\n",
      "Paragraphe 46: 'Concernant la visibilité réduite du graphique, nous reconnaissons ce point et allons étudier des solutions, bien que cela ne soit pas prioritaire dans les développements actuels.'\n",
      "Paragraphe 47: 'En attendant, vous pouvez :'\n",
      "Paragraphe 48: 'Passer la souris sur les courbes pour afficher les données détaillées.'\n",
      "Paragraphe 49: 'Exporter les indices d'exposition pour chaque aléa et horizon temporel afin de créer un graphique personnalisé et lisible.'\n",
      "Paragraphe 50: 'Enfin, vous pouvez également utiliser le bouton imprimante pour exporter le diagnostic en format PDF.'\n",
      "Paragraphe 51: ''\n",
      "Paragraphe 52: 'Graphique répartition des actions dans la planification des actions'\n",
      "Paragraphe 53: 'Vous pouvez exporter la stratégie d'adaptation en format .csv via le bouton dédié. Cela vous permet de créer un graphique plus lisible.'\n",
      "Paragraphe 54: ''\n",
      "Paragraphe 55: 'Problème d’impression de la page de planification des actions'\n",
      "Paragraphe 56: 'La page de planification des actions n’intègre pas de fonctionnalité d’impression native en PDF. Si vous utilisez l’outil d’impression de votre navigateur, il est possible que la mise en page soit affectée. Lorsque je teste ce dernier, l'intégralité des informations d'affichent bien. '\n",
      "Paragraphe 57: 'Pour contourner ce problème, vous pouvez :'\n",
      "Paragraphe 58: 'Réaliser une capture d’écran des différentes sections concernées.'\n",
      "Paragraphe 59: 'Imprimer les pages séparément pour chaque aléa afin d’avoir une meilleure visibilité.'\n",
      "Paragraphe 60: ''\n",
      "Paragraphe 61: ''\n",
      "Paragraphe 62: 'Compréhension des données à remplir sur les bâtiments '\n",
      "Paragraphe 63: ''\n",
      "Paragraphe 64: 'Question : Comment mettre à jour en masse des données d'immeubles déjà paramétrées ?'\n",
      "Paragraphe 65: ''\n",
      "Paragraphe 66: 'Réponse : Pour cela, vous pouvez importer un nouveau un fichier .csv d’ajout de bâtiments. '\n",
      "Paragraphe 67: ''\n",
      "Paragraphe 68: 'Question : Existent-ils des profils de bâtiments applicables pour les bâtiments industriels ?'\n",
      "Paragraphe 69: ''\n",
      "Paragraphe 70: 'Réponse : Non, les profils de bâtiments concernent uniquement Bâtiments tertiaires de grande surface, Bâtiments tertiaires de petite surface et Bâtiments résidentiels.'\n",
      "Paragraphe 71: ''\n",
      "Paragraphe 72: 'Question : Où trouver l'ensemble des informations à renseigner ? '\n",
      "Paragraphe 73: ''\n",
      "Paragraphe 74: 'Réponse : Cela dépend beaucoup de l'utilisateur concerné et de ses connaissances personnelles ainsi que de l'accès aux données en interne que vous pouvez avoir. Les informations sont observables ou trouvables dans les DOE (Dossier des ouvrages exécutés) ou récupérables sur Go rénove ou des connaissances internes en matière de suivi des bâtiments que vous avez en propriété ou gestion.'\n"
     ]
    }
   ],
   "source": [
    "# Добавьте вывод всех параграфов документа, чтобы увидеть, как python-docx извлекает текст:\n",
    "# Ajouter une impression de tous les paragraphes du document pour voir comment python-docx extrait le texte :\n",
    "\n",
    "def debug_document(file_path):\n",
    "    doc = Document(file_path)\n",
    "    print(\"Contenu du document:\")\n",
    "    for i, paragraph in enumerate(doc.paragraphs):\n",
    "        print(f\"Paragraphe {i + 1}: '{paragraph.text}'\")\n",
    "\n",
    "# Путь к вашему Word-файлу\n",
    "debug_document(file_path)"
   ]
  },
  {
   "cell_type": "code",
   "execution_count": 6,
   "id": "769c62a1-bd40-434c-9253-081e3b0b9050",
   "metadata": {},
   "outputs": [],
   "source": [
    "# Извлечение текста из документа Word\n",
    "# Extraire du texte d'un document Word\n",
    "\n",
    "def extract_questions_answers(file_path):\n",
    "    \"\"\"\n",
    "    Читает вопросы и ответы из файла .docx.\n",
    "    Возвращает список пар (вопрос, ответ).\n",
    "\n",
    "    Lit les questions et les réponses à partir d'un fichier .docx.\n",
    "    Renvoie une liste de paires (question, réponse).\n",
    "    \n",
    "    \"\"\"\n",
    "    doc = Document(file_path)\n",
    "    qa_pairs = []\n",
    "    current_question = None\n",
    "\n",
    "    # Проходим по каждому абзацу\n",
    "    # Nous parcourons chaque paragraphe\n",
    "    for paragraph in doc.paragraphs:\n",
    "        text = paragraph.text.strip()\n",
    "        \n",
    "        # Убираем неразрывные пробелы и приводим к стандартному виду\n",
    "        # Supprimer les espaces insécables et ramener au format standard\n",
    "        text = text.replace('\\xa0', ' ').strip()\n",
    "\n",
    "        # Проверяем на вопрос\n",
    "        # Vérifiez la question\n",
    "        if text.lower().startswith(\"question :\"):\n",
    "            current_question = text.replace(\"Question :\", \"\").strip()\n",
    "        \n",
    "        # Проверяем на ответ\n",
    "        # Vérifier la réponse\n",
    "        elif text.lower().startswith(\"réponse :\") and current_question:\n",
    "            answer = text.replace(\"Réponse :\", \"\").strip()\n",
    "            qa_pairs.append({\"question\": current_question, \"answer\": answer})\n",
    "            current_question = None\n",
    "    \n",
    "    return qa_pairs"
   ]
  },
  {
   "cell_type": "code",
   "execution_count": 7,
   "id": "b3b50c4a-b3b3-401d-b045-fd8311cdc527",
   "metadata": {},
   "outputs": [
    {
     "name": "stdout",
     "output_type": "stream",
     "text": [
      "10 paires de questions et réponses trouvées:\n",
      "Question: Dans quels pays en Europe peut-on utiliser cet outil ? Est-ce possible au Royaume-Uni, en Suisse, en Pologne ou en République Tchèque ?\n",
      "Réponses: L'outil Bat-ADAPT permet des analyses de risques climatiques des bâtiments situés en Europe Continentale. Il est tout à fait possible d'utiliser Bat-ADAPT pour les bâtiments situés au Royaume-Uni, en Suisse, en Pologne ou en République Tchèque.\n",
      "\n",
      "Question: Quand nous ajoutons un nouveau fichier Excel dans notre espace \"Mon Patrimoine\" alors qu’un précédent Excel avait été importé, est-ce que cela va écraser les précédentes données ?\n",
      "Réponses: Oui, les données des bâtiments ayant le même \"Code de bâtiment\" seront écrasées par celles du nouveau fichier Excel importé.\n",
      "\n",
      "Question: Comment peut-on supprimer un bâtiment, notamment les bâtiments qui ont servi de test ?\n",
      "Réponses: Pour supprimer des bâtiments, il faut les sélectionner dans la liste en cochant leurs cases.\n",
      "\n",
      "Question: Est-il possible de modifier des données manuellement sans passer par l’Excel ?\n",
      "Réponses: Oui, vous pouvez le faire. Pour cela, rendez-vous dans \"Mon patrimoine\", sélectionnez le bâtiment de votre liste, puis le formulaire correspondant apparaîtra. Vous pourrez y effectuer directement vos modifications manuelles.\n",
      "\n",
      "Question: Est-il possible de faire apparaître la famille de bâtiment en français dans la liste des bâtiments (onglet Mon patrimoine) ?\n",
      "Réponses: Les données sur les bâtiments qui s'affichent dans l'onglet \"Mon patrimoine\" sont en anglais par défaut pour correspondre au fichier d'entrée lui-même en anglais. Les fichiers étaient historiquement en anglais car les utilisateurs principaux utilisaient des données en anglais dans le cadre de leurs démarches de reporting. Nous avons en tête qu'il serait utile de proposer un fichier d'import des données et donc des données sur la page \"Mon patrimoine\" en français. Cela fera peut-être l'objet d'améliorations futures.\n",
      "\n",
      "Question: Est-ce que le paramétrage de la base de données reste enregistré sur mon compte après sa réalisation ?\n",
      "Réponses: Oui, le paramétrage de la base de données reste en mémoire sur votre compte jusqu'à ce qu'un changement soit effectué.\n",
      "\n",
      "Question: Je rencontre actuellement plusieurs bugs de mise en forme lors du diagnostic BatADAPT.\n",
      "1. L'analyse par type de risque montre un graphique sur l'indicateur de l'évolution du risque selon les scenarios climatiques qui apparaît puis se réduit pour disparaître entièrement, ne laissant apparaître que la légende. A l'impression, ce graphique est trop petit pour être lisible.\n",
      "2. Idem pour la page de planification des actions. Le graphique montrant la répartition des actions se réduit jusqu'à disparaître. Lors de l'impression, le diagramme est tout petit.\n",
      "3. Lors de l'impression en pdf, la page de planification des actions est coupé, nous ne voyons pas tous les aléas concernés.\n",
      "Réponses: Voici mes éléments de réponse concernant vos retours :\n",
      "\n",
      "Question: Comment mettre à jour en masse des données d'immeubles déjà paramétrées ?\n",
      "Réponses: Pour cela, vous pouvez importer un nouveau un fichier .csv d’ajout de bâtiments.\n",
      "\n",
      "Question: Existent-ils des profils de bâtiments applicables pour les bâtiments industriels ?\n",
      "Réponses: Non, les profils de bâtiments concernent uniquement Bâtiments tertiaires de grande surface, Bâtiments tertiaires de petite surface et Bâtiments résidentiels.\n",
      "\n",
      "Question: Où trouver l'ensemble des informations à renseigner ?\n",
      "Réponses: Cela dépend beaucoup de l'utilisateur concerné et de ses connaissances personnelles ainsi que de l'accès aux données en interne que vous pouvez avoir. Les informations sont observables ou trouvables dans les DOE (Dossier des ouvrages exécutés) ou récupérables sur Go rénove ou des connaissances internes en matière de suivi des bâtiments que vous avez en propriété ou gestion.\n",
      "\n"
     ]
    }
   ],
   "source": [
    "qa_pairs = extract_questions_answers(file_path)\n",
    "if not qa_pairs:\n",
    "    print(\"Erreur : Aucune question ou réponse trouvée dans le document.\")\n",
    "else:\n",
    "    print(f\"{len(qa_pairs)} paires de questions et réponses trouvées:\")\n",
    "    for pair in qa_pairs:\n",
    "        print(f\"Question: {pair['question']}\")\n",
    "        print(f\"Réponses: {pair['answer']}\\n\")"
   ]
  },
  {
   "cell_type": "code",
   "execution_count": 8,
   "id": "ae5508c9-d19a-49a3-9af4-0b4f651d74bb",
   "metadata": {},
   "outputs": [],
   "source": [
    "# Векторизация текста и создание индекса\n",
    "# Vectorisation de texte et création d'index\n",
    "\n",
    "def create_vector_index(question_pairs, model_name=\"sentence-transformers/all-MiniLM-L6-v2\"):\n",
    "    model = SentenceTransformer(model_name)\n",
    "    questions = [qa['question'] for qa in question_pairs]\n",
    "    embeddings = model.encode(questions, convert_to_tensor=False)\n",
    "    dimension = embeddings[0].shape[0]\n",
    "    \n",
    "    # Создаем индекс FAISS\n",
    "    index = faiss.IndexFlatL2(dimension)\n",
    "    index.add(np.array(embeddings))\n",
    "    return index, model, question_pairs\n"
   ]
  },
  {
   "cell_type": "code",
   "execution_count": 9,
   "id": "622cbcdf-f403-457d-9b66-f00496b51bad",
   "metadata": {},
   "outputs": [],
   "source": [
    "# Создание индекса\n",
    "# Créer un index\n",
    "index, model, qa_pairs = create_vector_index(qa_pairs)"
   ]
  },
  {
   "cell_type": "code",
   "execution_count": 10,
   "id": "23c14798-e3c6-4a62-87b9-54d795b12bec",
   "metadata": {},
   "outputs": [],
   "source": [
    "# Поиск ответа по запросу\n",
    "# Rechercher une réponse à une demande\n",
    "\n",
    "def search_answer(query, index, model, qa_pairs, top_k=1):\n",
    "    query_embedding = model.encode([query], convert_to_tensor=False)\n",
    "    distances, indices = index.search(np.array(query_embedding), top_k)\n",
    "    results = [{\"question\": qa_pairs[idx][\"question\"], \"answer\": qa_pairs[idx][\"answer\"], \"distance\": dist}\n",
    "               for dist, idx in zip(distances[0], indices[0])]\n",
    "    return results"
   ]
  },
  {
   "cell_type": "code",
   "execution_count": 11,
   "id": "0e4c523e-6ff6-4899-bc10-0350d96038d5",
   "metadata": {},
   "outputs": [],
   "source": [
    "# Le Chatbot\n",
    "def chat_bot(qa_pairs, index, model):\n",
    "    print(\"Le chatbot est prêt à fonctionner! Entrez votre question (ou 'exit' pour sortir):\")\n",
    "    while True:\n",
    "        user_query = input(\"Vous: \")\n",
    "        if user_query.lower() == 'exit':\n",
    "            print(\"Au revoir!\")\n",
    "            break\n",
    "        results = search_answer(user_query, index, model, qa_pairs, top_k=1)\n",
    "        if results:\n",
    "            print(f\"Le chatbot: {results[0]['answer']} (question: {results[0]['question']})\")\n",
    "        else:\n",
    "            print(\"Le chatbot: Désolé, je n'ai pas trouvé de réponse appropriée.\")\n"
   ]
  },
  {
   "cell_type": "code",
   "execution_count": null,
   "id": "d7bfeeac-d760-4009-bd21-49deafa0a6d3",
   "metadata": {},
   "outputs": [
    {
     "name": "stdout",
     "output_type": "stream",
     "text": [
      "Le chatbot est prêt à fonctionner! Entrez votre question (ou 'exit' pour sortir):\n"
     ]
    },
    {
     "name": "stdin",
     "output_type": "stream",
     "text": [
      "Vous:  Comment peut-on supprimer un bâtiment, notamment les bâtiments qui ont servi de test ?\n"
     ]
    },
    {
     "name": "stdout",
     "output_type": "stream",
     "text": [
      "Le chatbot: Pour supprimer des bâtiments, il faut les sélectionner dans la liste en cochant leurs cases. (question: Comment peut-on supprimer un bâtiment, notamment les bâtiments qui ont servi de test ?)\n"
     ]
    },
    {
     "name": "stdin",
     "output_type": "stream",
     "text": [
      "Vous:  Quand nous ajoutons un nouveau fichier Excel dans notre espace \"Mon Patrimoine\" alors qu’un précédent Excel avait été importé, est-ce que cela va écraser les précédentes données ?\n"
     ]
    },
    {
     "name": "stdout",
     "output_type": "stream",
     "text": [
      "Le chatbot: Oui, les données des bâtiments ayant le même \"Code de bâtiment\" seront écrasées par celles du nouveau fichier Excel importé. (question: Quand nous ajoutons un nouveau fichier Excel dans notre espace \"Mon Patrimoine\" alors qu’un précédent Excel avait été importé, est-ce que cela va écraser les précédentes données ?)\n"
     ]
    }
   ],
   "source": [
    "# Запуск\n",
    "# Lancement\n",
    "if __name__ == \"__main__\":\n",
    "    \n",
    "    # Извлечение вопросов и ответов\n",
    "    # Extraction des questions et des réponses\n",
    "    qa_pairs = extract_questions_answers(file_path)\n",
    "    \n",
    "    # Создание индекса\n",
    "    # Créer un index\n",
    "    index, model, qa_pairs = create_vector_index(qa_pairs)\n",
    "    \n",
    "    # Запуск чат-бота\n",
    "    # Lancer un chatbot\n",
    "    chat_bot(qa_pairs, index, model)"
   ]
  },
  {
   "cell_type": "code",
   "execution_count": null,
   "id": "af3a4e19-291e-41e3-853c-d744f5156bfe",
   "metadata": {},
   "outputs": [],
   "source": []
  },
  {
   "cell_type": "code",
   "execution_count": null,
   "id": "8eac2730-0df7-4a23-8817-97f087d28a74",
   "metadata": {},
   "outputs": [],
   "source": []
  },
  {
   "cell_type": "code",
   "execution_count": null,
   "id": "2bdc74b8-1609-482f-b776-e0061d38fc57",
   "metadata": {},
   "outputs": [],
   "source": []
  },
  {
   "cell_type": "code",
   "execution_count": null,
   "id": "477fcf8d-c2ad-4bc2-96cd-3fb89e3acf72",
   "metadata": {},
   "outputs": [],
   "source": []
  }
 ],
 "metadata": {
  "kernelspec": {
   "display_name": "Python 3 (ipykernel)",
   "language": "python",
   "name": "python3"
  },
  "language_info": {
   "codemirror_mode": {
    "name": "ipython",
    "version": 3
   },
   "file_extension": ".py",
   "mimetype": "text/x-python",
   "name": "python",
   "nbconvert_exporter": "python",
   "pygments_lexer": "ipython3",
   "version": "3.12.7"
  }
 },
 "nbformat": 4,
 "nbformat_minor": 5
}
